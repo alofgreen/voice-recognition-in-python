{
 "cells": [
  {
   "cell_type": "markdown",
   "metadata": {},
   "source": [
    "# <h1><center><font color=\"gold\">Voice Authentication Demo!</font></center></h1> "
   ]
  },
  {
   "cell_type": "code",
   "execution_count": 1,
   "metadata": {
    "collapsed": true
   },
   "outputs": [],
   "source": [
    "from IPython.display \n",
    "import HTML, display, Javascript, clear_output\n",
    "import glob\n",
    "import pandas as pd \n",
    "import IPython.display\n",
    "import librosa \n",
    "import librosa.display \n",
    "from dtw \n",
    "import dtw \n",
    "from numpy.linalg \n",
    "import norm \n",
    "from scipy.io.wavfile \n",
    "import read\n",
    "import numpy as np \n",
    "from voice_recog import * \n",
    "import os\n",
    "import pickle\n",
    "import IPython.display as ipd\n",
    "from ipywidgets \n",
    "import widgets, Layout, Text, VBox, HBox, Box, Label; \n",
    "from traitlets \n",
    "import traitlets"
   ]
  },
  {
   "cell_type": "markdown",
   "metadata": {},
   "source": [
    "## <h1><center>Enroll Voice Signature</center></h1>"
   ]
  },
  {
   "cell_type": "code",
   "execution_count": 2,
   "metadata": {
    "collapsed": true
   },
   "outputs": [],
   "source": [
    "da = LoadedButton(description=\"Load The Most Updated Voice Archive\", \n",
    "                     value=dict(), \n",
    "                     layout=Layout(width='100%', flex='center'))\n",
    "da.on_click(load_archive)\n",
    "display(da)"
   ]
  },
  {
   "cell_type": "code",
   "execution_count": 3,
   "metadata": {},
   "outputs": [
    {
     "name": "stdout",
     "output_type": "stream",
     "text": [
      "Sharada\n",
      "Anand\n",
      "Brian\n",
      "Sanjay\n",
      "Farrell\n",
      "Beto\n",
      "Walter\n",
      "Shub\n"
     ]
    }
   ],
   "source": [
    "who = Button(description = \"Who's in the archive?\")\n",
    "def whosIn(b):\n",
    "    clear_output(wait=True)\n",
    "    [print(key) for key in da.value.keys()]\n",
    "who.on_click(whosIn)\n",
    "display(who)"
   ]
  },
  {
   "cell_type": "markdown",
   "metadata": {},
   "source": [
    "## <h1><center>Archive Voice Signature</center></h1>"
   ]
  },
  {
   "cell_type": "code",
   "execution_count": 4,
   "metadata": {
    "collapsed": true,
    "scrolled": false
   },
   "outputs": [],
   "source": [
    "archiveText = LoadedText(layout=Layout(align_self='center',width='100%'))\n",
    "lab = Label(align_self='center')\n",
    "HBox([display(Label('Your Name')), display(archiveText)])\n",
    "\n",
    "archiveText.on_submit(append_data_archive)"
   ]
  },
  {
   "cell_type": "markdown",
   "metadata": {},
   "source": [
    "# Authenticate a Voice Signature"
   ]
  },
  {
   "cell_type": "code",
   "execution_count": 5,
   "metadata": {
    "collapsed": true,
    "scrolled": false
   },
   "outputs": [],
   "source": [
    "#transfer file and test audio\n",
    "audioText = LoadedText(layout=Layout(width='100%'))\n",
    "HBox([display(Label('Your Name')), display(audioText)])\n",
    "\n",
    "audioText.on_submit(file_transfer_and_test)\n",
    "\n",
    "# voice_to_authenticate, location = vr.file_transfer(test=True) \n",
    "# ipd.Audio(location) #load a local WAV file"
   ]
  },
  {
   "cell_type": "code",
   "execution_count": 6,
   "metadata": {
    "collapsed": true
   },
   "outputs": [],
   "source": [
    "play_button = LoadedButton(description=\"Play Voice Sample\", \n",
    "                           value=str(),\n",
    "                           layout=Layout(width='100%'))\n",
    "display(play_button)\n",
    "\n",
    "def create_audio(ex):\n",
    "    ex.value = audioText.test_value[1]\n",
    "    clear_output(wait=True)\n",
    "    audio = ipd.Audio(ex.value)\n",
    "    return display(audio)\n",
    "\n",
    "play_button.on_click(create_audio)"
   ]
  },
  {
   "cell_type": "code",
   "execution_count": 7,
   "metadata": {
    "collapsed": true
   },
   "outputs": [],
   "source": [
    "authenticate_voice = widgets.Button(description='Authenticate',\n",
    "                                    layout=Layout(width='100%'))\n",
    "display(authenticate_voice)\n",
    "                                    \n",
    "def authenticate(ex):\n",
    "    clear_output(wait=True)\n",
    "    with open('voiceDataArchive.pickle','rb') as handle:\n",
    "        archive = pickle.load(handle)\n",
    "    if (audioText.value in archive.keys())==True:\n",
    "        sample = audio_preprocessing(audioText.test_value[0])\n",
    "        output = closest_match(archive, sample)\n",
    "        if output==audioText.value:\n",
    "            print(output)\n",
    "        else:\n",
    "            print('Whoa! You may not be who you say you are. Please provide the last 4 of you SSN')\n",
    "    else:\n",
    "        print(audioText.value, 'Not enrolled in Voice Authenticaion')\n",
    "\n",
    "authenticate_voice.on_click(authenticate)"
   ]
  },
  {
   "cell_type": "markdown",
   "metadata": {},
   "source": [
    "# Cleanup Functions"
   ]
  },
  {
   "cell_type": "code",
   "execution_count": 8,
   "metadata": {
    "collapsed": true
   },
   "outputs": [],
   "source": [
    "delete_key = Text(layout=Layout(width='100%'))\n",
    "HBox([display(Label('Delete from Voice Archive')),display(delete_key)])\n",
    "delete_key.on_submit(del_key)"
   ]
  },
  {
   "cell_type": "code",
   "execution_count": 9,
   "metadata": {
    "collapsed": true
   },
   "outputs": [],
   "source": [
    "cleanup_test = Text(layout=Layout(width='100%'))\n",
    "HBox([display(Label('Cleanup Test Files')),display(cleanup_test)])\n",
    "cleanup_test.on_submit(cleanup)"
   ]
  },
  {
   "cell_type": "code",
   "execution_count": 10,
   "metadata": {
    "collapsed": true
   },
   "outputs": [],
   "source": [
    "HTML('''<script>\n",
    "code_show=true; \n",
    "function code_toggle() {\n",
    " if (code_show){\n",
    " $('div.input').hide();\n",
    " } else {\n",
    " $('div.input').show();\n",
    " }\n",
    " code_show = !code_show\n",
    "} \n",
    "$( document ).ready(code_toggle);\n",
    "</script>\n",
    "<form action=\"javascript:code_toggle()\"><input type=\"submit\" value=\"Click here to toggle on/off the raw code.\"></form>''')"
   ]
  },
  {
   "cell_type": "code",
   "execution_count": null,
   "metadata": {
    "collapsed": true
   },
   "outputs": [],
   "source": []
  },
  {
   "cell_type": "code",
   "execution_count": null,
   "metadata": {
    "collapsed": true
   },
   "outputs": [],
   "source": []
  }
 ],
 "metadata": {
  "kernelspec": {
   "display_name": "Python 3",
   "language": "python",
   "name": "python3"
  },
  "language_info": {
   "codemirror_mode": {
    "name": "ipython",
    "version": 3
   },
   "file_extension": ".py",
   "mimetype": "text/x-python",
   "name": "python",
   "nbconvert_exporter": "python",
   "pygments_lexer": "ipython3",
   "version": "3.5.2"
  },
  "nav_menu": {},
  "toc": {
   "navigate_menu": true,
   "number_sections": true,
   "sideBar": true,
   "threshold": 6,
   "toc_cell": false,
   "toc_section_display": "block",
   "toc_window_display": false
  },
  "toc_position": {
   "height": "948px",
   "left": "0px",
   "right": "2106.67px",
   "top": "107px",
   "width": "27px"
  }
 },
 "nbformat": 4,
 "nbformat_minor": 2
}
